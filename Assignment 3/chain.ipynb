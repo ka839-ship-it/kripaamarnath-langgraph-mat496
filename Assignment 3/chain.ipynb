{
 "cells": [
  {
   "cell_type": "code",
   "execution_count": 10,
   "id": "1f2c82ce",
   "metadata": {},
   "outputs": [],
   "source": [
    "%%capture --no-stderr\n",
    "%pip install --quiet -U langchain_groq langchain_core langgraph sentence-transformers"
   ]
  },
  {
   "cell_type": "code",
   "execution_count": 11,
   "id": "f2df4d16",
   "metadata": {},
   "outputs": [
    {
     "name": "stdout",
     "output_type": "stream",
     "text": [
      "==================================\u001b[1m Ai Message \u001b[0m==================================\n",
      "Name: Oracle\n",
      "\n",
      "Greetings, traveler. You seek knowledge?\n",
      "================================\u001b[1m Human Message \u001b[0m=================================\n",
      "Name: Explorer\n",
      "\n",
      "Yes, I'm researching ancient civilizations.\n",
      "==================================\u001b[1m Ai Message \u001b[0m==================================\n",
      "Name: Oracle\n",
      "\n",
      "A fascinating pursuit! What civilization piques your interest?\n",
      "================================\u001b[1m Human Message \u001b[0m=================================\n",
      "Name: Explorer\n",
      "\n",
      "Tell me about the construction of the Great Pyramid of Giza.\n"
     ]
    }
   ],
   "source": [
    "from pprint import pprint\n",
    "from langchain_core.messages import AIMessage, HumanMessage\n",
    "\n",
    "messages = [AIMessage(content=f\"Greetings, traveler. You seek knowledge?\", name=\"Oracle\")]\n",
    "messages.append(HumanMessage(content=f\"Yes, I'm researching ancient civilizations.\", name=\"Explorer\"))\n",
    "messages.append(AIMessage(content=f\"A fascinating pursuit! What civilization piques your interest?\", name=\"Oracle\"))\n",
    "messages.append(HumanMessage(content=f\"Tell me about the construction of the Great Pyramid of Giza.\", name=\"Explorer\"))\n",
    "\n",
    "for m in messages:\n",
    "    m.pretty_print()\n"
   ]
  },
  {
   "cell_type": "code",
   "execution_count": null,
   "id": "235a6291",
   "metadata": {},
   "outputs": [],
   "source": [
    "import os\n",
    "\n",
    "\n",
    "os.environ[\"GROQ_API_KEY\"] = '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'\n",
    "\n",
    "os.environ[\"LANGSMITH_API_KEY\"] = 'ls__YOUR_LANGSMITH_API_KEY_HERE'\n",
    "os.environ[\"LANGSMITH_TRACING\"] = \"true\"\n",
    "os.environ[\"LANGSMITH_PROJECT\"] = \"langchain-academy-groq\" "
   ]
  },
  {
   "cell_type": "code",
   "execution_count": null,
   "id": "fc4b15c3",
   "metadata": {},
   "outputs": [
    {
     "data": {
      "text/plain": [
       "langchain_core.messages.ai.AIMessage"
      ]
     },
     "execution_count": 13,
     "metadata": {},
     "output_type": "execute_result"
    }
   ],
   "source": [
    "from langchain_groq import ChatGroq\n",
    "llm = ChatGroq(model=\"moonshotai/kimi-k2-instruct\") \n",
    "result = llm.invoke(messages)\n",
    "type(result)"
   ]
  },
  {
   "cell_type": "code",
   "execution_count": 14,
   "id": "777d6725",
   "metadata": {},
   "outputs": [
    {
     "data": {
      "text/plain": [
       "AIMessage(content='The Great Pyramid of Khufu (c. 2589–2566 BCE) is a 481-foot, 6.2-million-ton stack of 2.3 million limestone and granite blocks, most weighing 2–3 t and a few roofing-blocks in the “King’s Chamber” 60–80 t.  \\nPrecision: base 230.4 m per side, deviation from level only 2 cm, mean deviation of sides from true cardinal 3′ 37″.  \\nTool kit: chert (flint) and dolerite pounders, copper chisels (hardened by hammering and arsenic alloying), tubular copper-drills with quartz sand abrasive, granite saws with dolerite grit, and wooden sledges.  \\nLabour: 5–7 000 skilled specialists (surveyors, masons, boat-crews, tool-smiths, scribes) + a rotating mass of c. 20 000 unskilled workmen; four “phyles” working three-month corvée shifts; total project 20–24 years.  \\nLogistics:  \\n– Quarries on-site for local limestone; Tura-Maasara fine limestone casing 12 km east; Aswan granite 934 km south.  \\n– Blocks ferried on the Nile during the inundation season and landed on a purpose-built 200 m-long harbor at Giza; canal system cut through the western desert edge.  \\n– Average daily delivery ≈ 360 blocks (one every 2–3 min, 10 h day).  \\nBuilding sequence (most widely accepted):  \\n1. Level the 5.3 ha platform: cut a grid of sockets, flood them, and trim to water-surface datum; error <2 cm.  \\n2. Lay the first 210 courses in horizontal accretion layers, setting the four cornerstones first to control alignment.  \\n3. Build a straight, gently sloping ramp that grew with the monument; evidence favors a zig-zag or spiral on the pyramid face rather than a single long causeway.  \\n4. Raise stones by sledges pulled up mud-slicked tracks; a lubricated clay-water mix reduced friction by 40 %. Post-holes and Tura limestone chips at the pyramid’s base show where crews levered blocks onto rollers for final positioning.  \\n5. Place the granite beams for the King’s Chamber using counter-weight cranes: two teams hauling on opposite sides of a 3:1 wooden rocker to lift 60 t stones one side at a time.  \\n6. Finish the top 10 courses and set the pyramidion (a 2.5 t granite cap plated in electrum) from a small working platform only 2 m wide.  \\n7. Dress the casing from top downward, trimming Tura blocks to within 0.5 mm joint gaps and an inward batter of 1° 54′ to create the smooth, reflective profile seen in antiquity.  \\nAlignment: The builders used stellar (not solar) sighting: a “stretching of the cord” ritual with a plumb-bob and sighting-rod locked on the circumpolar stars β UMi and Mizar; sidereal rotation provided true north to within 1/15 of a degree.  \\nInternal architecture: Three main chambers—Subterranean (abandoned), Queen’s (statue-cult niche), and King’s—plus five relieving vaults over the King’s Chamber to dissipate 2 000 000 kg of superincumbent load. Air-shafts from the King’s Chamber target the circumpolar sky and southern transit, likely for the king’s soul to ascend to the imperishable stars.  \\nWorkforce support: bakeries, breweries, cattle, sheep, and goat bone dumps indicate 1 600–1 800 kcal daily ration per worker; skeletal remains show healed fractures and absence of malnutrition, implying state-provided medical care.  \\nCompletion rate: if built in 23 years, crews laid one 2.5-t block every 3 min during a 10-hour daylight shift; modern experiments show 20 men can move a 2-t block 20 m h in 2 min, so the rate is achievable with parallel gangs.  \\nLegacy: The pyramid encapsulates Old Kingdom mastery of project management, surveying, and applied mechanics without iron, wheels, or pulleys—an enduring testament to human coordination and ingenuity.', additional_kwargs={}, response_metadata={'token_usage': {'completion_tokens': 916, 'prompt_tokens': 83, 'total_tokens': 999, 'completion_time': 5.381468779, 'prompt_time': 0.015341909, 'queue_time': 0.27894435, 'total_time': 5.396810688}, 'model_name': 'moonshotai/kimi-k2-instruct', 'system_fingerprint': 'fp_1ba2c257e7', 'service_tier': 'on_demand', 'finish_reason': 'stop', 'logprobs': None}, id='run--c90410f0-8603-463c-865f-231e620f7854-0', usage_metadata={'input_tokens': 83, 'output_tokens': 916, 'total_tokens': 999})"
      ]
     },
     "execution_count": 14,
     "metadata": {},
     "output_type": "execute_result"
    }
   ],
   "source": [
    "result"
   ]
  },
  {
   "cell_type": "code",
   "execution_count": 15,
   "id": "6658d6dd",
   "metadata": {},
   "outputs": [
    {
     "data": {
      "text/plain": [
       "{'token_usage': {'completion_tokens': 916,\n",
       "  'prompt_tokens': 83,\n",
       "  'total_tokens': 999,\n",
       "  'completion_time': 5.381468779,\n",
       "  'prompt_time': 0.015341909,\n",
       "  'queue_time': 0.27894435,\n",
       "  'total_time': 5.396810688},\n",
       " 'model_name': 'moonshotai/kimi-k2-instruct',\n",
       " 'system_fingerprint': 'fp_1ba2c257e7',\n",
       " 'service_tier': 'on_demand',\n",
       " 'finish_reason': 'stop',\n",
       " 'logprobs': None}"
      ]
     },
     "execution_count": 15,
     "metadata": {},
     "output_type": "execute_result"
    }
   ],
   "source": [
    "result.response_metadata"
   ]
  },
  {
   "cell_type": "code",
   "execution_count": 16,
   "id": "4f355ad8",
   "metadata": {},
   "outputs": [],
   "source": [
    "def calculate_area_rectangle(length: float, width: float) -> float:\n",
    "    \"\"\"Calculates the area of a rectangle.\n",
    "\n",
    "    Args:\n",
    "        length: The length of the rectangle.\n",
    "        width: The width of the rectangle.\n",
    "    \"\"\"\n",
    "    return length * width\n",
    "\n",
    "def convert_celsius_to_fahrenheit(celsius: float) -> float:\n",
    "    \"\"\"Converts a temperature from Celsius to Fahrenheit.\n",
    "\n",
    "    Args:\n",
    "        celsius: The temperature in Celsius.\n",
    "    \"\"\"\n",
    "    return (celsius * 9/5) + 32\n",
    "\n",
    "llm_with_tools = llm.bind_tools([calculate_area_rectangle, convert_celsius_to_fahrenheit])\n"
   ]
  },
  {
   "cell_type": "code",
   "execution_count": 17,
   "id": "ed8fd764",
   "metadata": {},
   "outputs": [],
   "source": [
    "tool_call = llm_with_tools.invoke([HumanMessage(content=f\"What is the area of a rectangle with length 15.5 and width 8.2?\", name=\"Engineer\")])"
   ]
  },
  {
   "cell_type": "code",
   "execution_count": 18,
   "id": "e1560381",
   "metadata": {},
   "outputs": [
    {
     "data": {
      "text/plain": [
       "[{'name': 'calculate_area_rectangle',\n",
       "  'args': {'length': 15.5, 'width': 8.2},\n",
       "  'id': 'functions.calculate_area_rectangle:0',\n",
       "  'type': 'tool_call'}]"
      ]
     },
     "execution_count": 18,
     "metadata": {},
     "output_type": "execute_result"
    }
   ],
   "source": [
    "tool_call.tool_calls"
   ]
  },
  {
   "cell_type": "code",
   "execution_count": 19,
   "id": "0fa77345",
   "metadata": {},
   "outputs": [],
   "source": [
    "from typing_extensions import TypedDict\n",
    "from langchain_core.messages import AnyMessage\n",
    "\n",
    "class MessagesState(TypedDict):\n",
    "    messages: list[AnyMessage]"
   ]
  },
  {
   "cell_type": "code",
   "execution_count": 20,
   "id": "b4760586",
   "metadata": {},
   "outputs": [],
   "source": [
    "from typing import Annotated\n",
    "from langgraph.graph.message import add_messages\n",
    "\n",
    "class MessagesState(TypedDict):\n",
    "    messages: Annotated[list[AnyMessage], add_messages]\n"
   ]
  },
  {
   "cell_type": "code",
   "execution_count": null,
   "id": "da27c333",
   "metadata": {},
   "outputs": [],
   "source": [
    "from langgraph.graph import MessagesState\n",
    "\n",
    "class MessagesState(MessagesState):\n",
    "    pass"
   ]
  },
  {
   "cell_type": "code",
   "execution_count": null,
   "id": "1a297cb6",
   "metadata": {},
   "outputs": [
    {
     "name": "stdout",
     "output_type": "stream",
     "text": [
      "Updated messages:\n",
      "==================================\u001b[1m Ai Message \u001b[0m==================================\n",
      "Name: Sage\n",
      "\n",
      "Welcome, seeker of knowledge. What do you wish to unravel today?\n",
      "================================\u001b[1m Human Message \u001b[0m=================================\n",
      "Name: StarGazer\n",
      "\n",
      "I'm curious about the cosmos.\n",
      "==================================\u001b[1m Ai Message \u001b[0m==================================\n",
      "Name: Sage\n",
      "\n",
      "The universe holds many secrets. What aspect of the cosmos fascinates you?\n"
     ]
    }
   ],
   "source": [
    "\n",
    "initial_messages = [AIMessage(content=\"Welcome, seeker of knowledge. What do you wish to unravel today?\", name=\"Sage\"),\n",
    "                    HumanMessage(content=\"I'm curious about the cosmos.\", name=\"StarGazer\")\n",
    "                   ]\n",
    "\n",
    "\n",
    "new_message = AIMessage(content=\"The universe holds many secrets. What aspect of the cosmos fascinates you?\", name=\"Sage\")\n",
    "\n",
    "\n",
    "updated_messages = add_messages(initial_messages , new_message)\n",
    "print(\"Updated messages:\")\n",
    "for m in updated_messages:\n",
    "    m.pretty_print()\n"
   ]
  },
  {
   "cell_type": "code",
   "execution_count": null,
   "id": "db5ddf11",
   "metadata": {},
   "outputs": [
    {
     "data": {
      "image/png": "[encoded data removed]",
      "text/plain": [
       "<IPython.core.display.Image object>"
      ]
     },
     "metadata": {},
     "output_type": "display_data"
    }
   ],
   "source": [
    "from IPython.display import Image, display\n",
    "from langgraph.graph import StateGraph, START, END\n",
    "\n",
    "\n",
    "def tool_calling_llm(state: MessagesState):\n",
    "    return {\"messages\": [llm_with_tools.invoke(state[\"messages\"])]}\n",
    "\n",
    "\n",
    "builder = StateGraph(MessagesState)\n",
    "builder.add_node(\"tool_calling_llm\", tool_calling_llm)\n",
    "builder.add_edge(START, \"tool_calling_llm\")\n",
    "builder.add_edge(\"tool_calling_llm\", END)\n",
    "graph = builder.compile()\n",
    "\n",
    "\n",
    "display(Image(graph.get_graph().draw_mermaid_png()))"
   ]
  },
  {
   "cell_type": "code",
   "execution_count": null,
   "id": "6dc21d95",
   "metadata": {},
   "outputs": [
    {
     "name": "stdout",
     "output_type": "stream",
     "text": [
      "================================\u001b[1m Human Message \u001b[0m=================================\n",
      "Name: User\n",
      "\n",
      "Greetings, AI! How's the weather on your end?\n",
      "==================================\u001b[1m Ai Message \u001b[0m==================================\n",
      "\n",
      "Greetings! I don’t have a physical “end,” so I don’t experience weather the way you do—but I can certainly look up current conditions anywhere you’d like. Just let me know the city or region you’re curious about!\n"
     ]
    }
   ],
   "source": [
    "\n",
    "messages = graph.invoke({\"messages\": HumanMessage(content=\"Greetings, AI! How's the weather on your end?\", name=\"User\")})\n",
    "for m in messages['messages']:\n",
    "    m.pretty_print() "
   ]
  },
  {
   "cell_type": "code",
   "execution_count": 26,
   "id": "bddae4a1",
   "metadata": {},
   "outputs": [
    {
     "name": "stdout",
     "output_type": "stream",
     "text": [
      "================================\u001b[1m Human Message \u001b[0m=================================\n",
      "Name: Scientist\n",
      "\n",
      "Convert 28 degrees Celsius to Fahrenheit.\n",
      "==================================\u001b[1m Ai Message \u001b[0m==================================\n",
      "\n",
      "I'll help you convert 28 degrees Celsius to Fahrenheit.\n",
      "Tool Calls:\n",
      "  convert_celsius_to_fahrenheit (functions.convert_celsius_to_fahrenheit:0)\n",
      " Call ID: functions.convert_celsius_to_fahrenheit:0\n",
      "  Args:\n",
      "    celsius: 28\n"
     ]
    }
   ],
   "source": [
    "messages = graph.invoke({\"messages\": HumanMessage(content=\"Convert 28 degrees Celsius to Fahrenheit.\", name=\"Scientist\")})\n",
    "for m in messages['messages']:\n",
    "  m.pretty_print()"
   ]
  }
 ],
 "metadata": {
  "kernelspec": {
   "display_name": "MAT496",
   "language": "python",
   "name": "python3"
  },
  "language_info": {
   "codemirror_mode": {
    "name": "ipython",
    "version": 3
   },
   "file_extension": ".py",
   "mimetype": "text/x-python",
   "name": "python",
   "nbconvert_exporter": "python",
   "pygments_lexer": "ipython3",
   "version": "3.13.5"
  }
 },
 "nbformat": 4,
 "nbformat_minor": 5
}
