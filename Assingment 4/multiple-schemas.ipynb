{
 "cells": [
  {
   "cell_type": "code",
   "execution_count": 6,
   "id": "39c1dddc",
   "metadata": {},
   "outputs": [],
   "source": [
    "%%capture --no-stderr\n",
    "%pip install --quiet -U langgraph langchain_groq langchain_community tiktoken\n"
   ]
  },
  {
   "cell_type": "code",
   "execution_count": 7,
   "id": "ae24fbfb",
   "metadata": {},
   "outputs": [
    {
     "data": {
      "image/png": "[encoded data removed]",
      "text/plain": [
       "<IPython.core.display.Image object>"
      ]
     },
     "metadata": {},
     "output_type": "display_data"
    }
   ],
   "source": [
    "from typing_extensions import TypedDict\n",
    "from IPython.display import Image, display\n",
    "from langgraph.graph import StateGraph, START, END\n",
    "\n",
    "class OverallState(TypedDict):\n",
    "    item_count: int\n",
    "    total_cost: float\n",
    "\n",
    "class PrivateState(TypedDict):\n",
    "    item_price: float\n",
    "\n",
    "def calculate_price(state: OverallState) -> PrivateState:\n",
    "    print(\"---Calculating Price---\")\n",
    "\n",
    "    return {\"item_price\": 10.0}\n",
    "\n",
    "def calculate_total(state: PrivateState) -> OverallState:\n",
    "    print(\"---Calculating Total---\")\n",
    " \n",
    "    return {\"total_cost\": state['item_price'] * 5} \n",
    "\n",
    "# Build graph\n",
    "builder = StateGraph(OverallState)\n",
    "builder.add_node(\"calculate_price\", calculate_price)\n",
    "builder.add_node(\"calculate_total\", calculate_total)\n",
    "\n",
    "# Logic\n",
    "builder.add_edge(START, \"calculate_price\")\n",
    "builder.add_edge(\"calculate_price\", \"calculate_total\")\n",
    "builder.add_edge(\"calculate_total\", END)\n",
    "\n",
    "# Add\n",
    "graph = builder.compile()\n",
    "\n",
    "# View\n",
    "display(Image(graph.get_graph().draw_mermaid_png()))"
   ]
  },
  {
   "cell_type": "code",
   "execution_count": 8,
   "id": "03125360",
   "metadata": {},
   "outputs": [
    {
     "name": "stdout",
     "output_type": "stream",
     "text": [
      "---Calculating Price---\n",
      "---Calculating Total---\n"
     ]
    },
    {
     "data": {
      "text/plain": [
       "{'item_count': 5, 'total_cost': 50.0}"
      ]
     },
     "execution_count": 8,
     "metadata": {},
     "output_type": "execute_result"
    }
   ],
   "source": [
    "graph.invoke({\"item_count\": 5})"
   ]
  },
  {
   "cell_type": "code",
   "execution_count": 12,
   "id": "cb35d4b4",
   "metadata": {},
   "outputs": [
    {
     "name": "stderr",
     "output_type": "stream",
     "text": [
      "C:\\Users\\DELL\\AppData\\Local\\Temp\\ipykernel_14268\\2335615081.py:13: LangChainDeprecationWarning: The class `HuggingFaceEmbeddings` was deprecated in LangChain 0.2.2 and will be removed in 1.0. An updated version of the class exists in the `langchain-huggingface package and should be used instead. To use it run `pip install -U `langchain-huggingface` and import as `from `langchain_huggingface import HuggingFaceEmbeddings``.\n",
      "  embeddings = HuggingFaceEmbeddings(model_name=\"sentence-transformers/all-MiniLM-L6-v2\")\n",
      "'(MaxRetryError('HTTPSConnectionPool(host=\\'huggingface.co\\', port=443): Max retries exceeded with url: /sentence-transformers/all-MiniLM-L6-v2/resolve/main/modules.json (Caused by NameResolutionError(\"<urllib3.connection.HTTPSConnection object at 0x000002675C453ED0>: Failed to resolve \\'huggingface.co\\' ([Errno 11001] getaddrinfo failed)\"))'), '(Request ID: f9ea35af-a88d-4385-9485-e5e8e5361c6a)')' thrown while requesting HEAD https://huggingface.co/sentence-transformers/all-MiniLM-L6-v2/resolve/main/./modules.json\n",
      "Retrying in 1s [Retry 1/5].\n"
     ]
    },
    {
     "data": {
      "image/png": "[encoded data removed]",
      "text/plain": [
       "<IPython.core.display.Image object>"
      ]
     },
     "metadata": {},
     "output_type": "display_data"
    }
   ],
   "source": [
    "import os\n",
    "from langchain_groq import ChatGroq\n",
    "from langchain_community.embeddings import HuggingFaceEmbeddings\n",
    "from langchain_core.prompts import ChatPromptTemplate\n",
    "from langchain_core.output_parsers import StrOutputParser\n",
    "\n",
    "# Set Groq API key\n",
    "os.environ[\"GROQ_API_KEY\"] = \"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\"\n",
    "\n",
    "# Initialize Groq Chat model\n",
    "llm = ChatGroq(temperature=0, model_name=\"moonshotai/kimi-k2-instruct\")\n",
    "\n",
    "embeddings = HuggingFaceEmbeddings(model_name=\"sentence-transformers/all-MiniLM-L6-v2\")\n",
    "\n",
    "class OverallState(TypedDict):\n",
    "    query: str\n",
    "    context: str\n",
    "    response: str\n",
    "\n",
    "def retrieve_context(state: OverallState):\n",
    "    print(\"---Retrieving Context---\")\n",
    "    \n",
    "    if \"pizza\" in state['query'].lower():\n",
    "        context = \"Pizza is an Italian dish consisting of a usually round, flat base of leavened wheat-based dough topped with tomatoes, cheese, and often various other ingredients.\"\n",
    "    elif \"spaghetti\" in state['query'].lower():\n",
    "        context = \"Spaghetti is a long, thin, solid, cylindrical pasta. It is a staple food of traditional Italian cuisine.\"\n",
    "    else:\n",
    "        context = \"No specific context found for this query.\"\n",
    "    return {\"context\": context}\n",
    "\n",
    "def generate_response(state: OverallState):\n",
    "    print(\"---Generating Response---\")\n",
    "    prompt = ChatPromptTemplate.from_messages([\n",
    "        (\"system\", \"You are a helpful assistant. Use the provided context to answer the user's query.\"),\n",
    "        (\"user\", \"Context: {context}\\nQuery: {query}\")\n",
    "    ])\n",
    "    chain = prompt | llm | StrOutputParser()\n",
    "\n",
    "    response = chain.invoke({\"context\": state['context'], \"query\": state['query']})\n",
    "    return {\"response\": response}\n",
    "\n",
    "graph = StateGraph(OverallState)\n",
    "graph.add_node(\"retrieve_context\", retrieve_context)\n",
    "graph.add_node(\"generate_response\", generate_response)\n",
    "graph.add_edge(START, \"retrieve_context\")\n",
    "graph.add_edge(\"retrieve_context\", \"generate_response\")\n",
    "graph.add_edge(\"generate_response\", END)\n",
    "\n",
    "graph = graph.compile()\n",
    "\n",
    "# View\n",
    "display(Image(graph.get_graph().draw_mermaid_png()))"
   ]
  },
  {
   "cell_type": "code",
   "execution_count": 13,
   "id": "f9f7f9b0",
   "metadata": {},
   "outputs": [
    {
     "name": "stdout",
     "output_type": "stream",
     "text": [
      "---Retrieving Context---\n",
      "---Generating Response---\n"
     ]
    },
    {
     "data": {
      "text/plain": [
       "{'query': 'What is pizza?',\n",
       " 'context': 'Pizza is an Italian dish consisting of a usually round, flat base of leavened wheat-based dough topped with tomatoes, cheese, and often various other ingredients.',\n",
       " 'response': 'Pizza is an Italian dish made of a usually round, flat base of leavened wheat-based dough topped with tomatoes, cheese, and often various other ingredients.'}"
      ]
     },
     "execution_count": 13,
     "metadata": {},
     "output_type": "execute_result"
    }
   ],
   "source": [
    "graph.invoke({\"query\":\"What is pizza?\"})"
   ]
  },
  {
   "cell_type": "code",
   "execution_count": 14,
   "id": "09950cc0",
   "metadata": {},
   "outputs": [
    {
     "data": {
      "image/png": "[encoded data removed]",
      "text/plain": [
       "<IPython.core.display.Image object>"
      ]
     },
     "metadata": {},
     "output_type": "display_data"
    },
    {
     "name": "stdout",
     "output_type": "stream",
     "text": [
      "---Researching Topic---\n",
      "---Summarizing Notes---\n"
     ]
    },
    {
     "data": {
      "text/plain": [
       "{'summary': 'No research notes available on this topic.'}"
      ]
     },
     "execution_count": 14,
     "metadata": {},
     "output_type": "execute_result"
    }
   ],
   "source": [
    "class InputState(TypedDict):\n",
    "    topic: str\n",
    "\n",
    "class OutputState(TypedDict):\n",
    "    summary: str\n",
    "\n",
    "class OverallState(TypedDict):\n",
    "    topic: str\n",
    "    research_notes: str\n",
    "    summary: str\n",
    "\n",
    "def research_topic(state: InputState):\n",
    "    print(\"---Researching Topic---\")\n",
    "    # Simulate some research based on the topic\n",
    "    if state['topic'].lower() == \"history of AI\":\n",
    "        notes = \"Early AI research focused on problem-solving and symbolic methods. Key milestones include the Dartmouth workshop in 1956 and the development of expert systems.\"\n",
    "    elif state['topic'].lower() == \"quantum computing basics\":\n",
    "        notes = \"Quantum computing uses quantum-mechanical phenomena such as superposition and entanglement to perform computations. Qubits are the basic unit of information.\"\n",
    "    else:\n",
    "        notes = \"No specific research notes for this topic.\"\n",
    "    return {\"research_notes\": notes}\n",
    "\n",
    "def summarize_notes(state: OverallState) -> OutputState:\n",
    "    print(\"---Summarizing Notes---\")\n",
    "    prompt = ChatPromptTemplate.from_messages([\n",
    "        (\"system\", \"Summarize the following research notes concisely.\"),\n",
    "        (\"user\", \"Research Notes: {research_notes}\")\n",
    "    ])\n",
    "    chain = prompt | llm | StrOutputParser()\n",
    "    summary = chain.invoke({\"research_notes\": state['research_notes']})\n",
    "    return {\"summary\": summary}\n",
    "\n",
    "graph = StateGraph(OverallState, input_schema=InputState, output_schema=OutputState)\n",
    "graph.add_node(\"research_topic\", research_topic)\n",
    "graph.add_node(\"summarize_notes\", summarize_notes)\n",
    "graph.add_edge(START, \"research_topic\")\n",
    "graph.add_edge(\"research_topic\", \"summarize_notes\")\n",
    "graph.add_edge(\"summarize_notes\", END)\n",
    "\n",
    "graph = graph.compile()\n",
    "\n",
    "# View\n",
    "display(Image(graph.get_graph().draw_mermaid_png()))\n",
    "\n",
    "graph.invoke({\"topic\":\"History of AI\"})\n",
    "\n"
   ]
  }
 ],
 "metadata": {
  "kernelspec": {
   "display_name": "MAT496",
   "language": "python",
   "name": "python3"
  },
  "language_info": {
   "codemirror_mode": {
    "name": "ipython",
    "version": 3
   },
   "file_extension": ".py",
   "mimetype": "text/x-python",
   "name": "python",
   "nbconvert_exporter": "python",
   "pygments_lexer": "ipython3",
   "version": "3.13.5"
  }
 },
 "nbformat": 4,
 "nbformat_minor": 5
}
