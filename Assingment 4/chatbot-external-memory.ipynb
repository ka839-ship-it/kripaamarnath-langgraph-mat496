{
 "cells": [
  {
   "cell_type": "code",
   "execution_count": 1,
   "id": "3a07f3f0",
   "metadata": {},
   "outputs": [],
   "source": [
    "\n",
    "%%capture --no-stderr\n",
    "%pip install --quiet -U langgraph-checkpoint-sqlite langchain_core langgraph langchain_groq langchain_community"
   ]
  },
  {
   "cell_type": "code",
   "execution_count": 2,
   "id": "d456a9b8",
   "metadata": {},
   "outputs": [],
   "source": [
    "\n",
    "import os, getpass\n",
    "\n",
    "def _set_env(var: str, value: str):\n",
    "    os.environ[var] = value\n",
    "\n",
    "_set_env(\"GROQ_API_KEY\", \"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\")"
   ]
  },
  {
   "cell_type": "code",
   "execution_count": 3,
   "id": "5d85c25b",
   "metadata": {},
   "outputs": [],
   "source": [
    "\n",
    "import sqlite3\n",
    "\n",
    "conn = sqlite3.connect(\":memory:\", check_same_thread = False)"
   ]
  },
  {
   "cell_type": "code",
   "execution_count": 4,
   "id": "32b74912",
   "metadata": {},
   "outputs": [
    {
     "name": "stderr",
     "output_type": "stream",
     "text": [
      "'[' is not recognized as an internal or external command,\n",
      "operable program or batch file.\n"
     ]
    }
   ],
   "source": [
    "#cell 4\n",
    "# pull file if it doesn't exist and connect to local db\n",
    "# The following command downloads example.db directly into the current directory\n",
    "! [ ! -f example.db ] && wget https://github.com/langchain-ai/langchain-academy/raw/main/module-2/state_db/example.db\n",
    "\n",
    "# Note: cell 3 creates an in-memory database, so this connection will not be used\n",
    "# for the SqliteSaver unless you explicitly reassign the 'conn' variable.\n",
    "# For demonstration purposes, if you want to use a persistent database from this file,\n",
    "# you would uncomment and use the line below after ensuring the file exists.\n",
    "# db_path_for_local_file = \"example.db\"\n",
    "# conn = sqlite3.connect(db_path_for_local_file, check_same_thread=False)"
   ]
  },
  {
   "cell_type": "code",
   "execution_count": 5,
   "id": "3e7ac6e2",
   "metadata": {},
   "outputs": [],
   "source": [
    "\n",
    "from langgraph.checkpoint.sqlite import SqliteSaver\n",
    "memory = SqliteSaver(conn)"
   ]
  },
  {
   "cell_type": "code",
   "execution_count": 6,
   "id": "a03259ab",
   "metadata": {},
   "outputs": [
    {
     "name": "stderr",
     "output_type": "stream",
     "text": [
      "C:\\Users\\DELL\\AppData\\Local\\Temp\\ipykernel_28204\\4135338269.py:9: LangChainDeprecationWarning: The class `HuggingFaceEmbeddings` was deprecated in LangChain 0.2.2 and will be removed in 1.0. An updated version of the class exists in the `langchain-huggingface package and should be used instead. To use it run `pip install -U `langchain-huggingface` and import as `from `langchain_huggingface import HuggingFaceEmbeddings``.\n",
      "  embeddings = HuggingFaceEmbeddings()\n",
      "C:\\Users\\DELL\\AppData\\Local\\Temp\\ipykernel_28204\\4135338269.py:9: LangChainDeprecationWarning: Default values for HuggingFaceEmbeddings.model_name were deprecated in LangChain 0.2.16 and will be removed in 0.4.0. Explicitly pass a model_name to the HuggingFaceEmbeddings constructor instead.\n",
      "  embeddings = HuggingFaceEmbeddings()\n"
     ]
    },
    {
     "data": {
      "application/vnd.jupyter.widget-view+json": {
       "model_id": "bcfc41c75edc4f8f897f16de8b04fdd8",
       "version_major": 2,
       "version_minor": 0
      },
      "text/plain": [
       "modules.json:   0%|          | 0.00/349 [00:00<?, ?B/s]"
      ]
     },
     "metadata": {},
     "output_type": "display_data"
    },
    {
     "name": "stderr",
     "output_type": "stream",
     "text": [
      "c:\\Users\\DELL\\anaconda3\\envs\\MAT496\\Lib\\site-packages\\huggingface_hub\\file_download.py:143: UserWarning: `huggingface_hub` cache-system uses symlinks by default to efficiently store duplicated files but your machine does not support them in C:\\Users\\DELL\\.cache\\huggingface\\hub\\models--sentence-transformers--all-mpnet-base-v2. Caching files will still work but in a degraded version that might require more space on your disk. This warning can be disabled by setting the `HF_HUB_DISABLE_SYMLINKS_WARNING` environment variable. For more details, see https://huggingface.co/docs/huggingface_hub/how-to-cache#limitations.\n",
      "To support symlinks on Windows, you either need to activate Developer Mode or to run Python as an administrator. In order to activate developer mode, see this article: https://docs.microsoft.com/en-us/windows/apps/get-started/enable-your-device-for-development\n",
      "  warnings.warn(message)\n"
     ]
    },
    {
     "data": {
      "application/vnd.jupyter.widget-view+json": {
       "model_id": "492ea15bfe90408380a20f01385a1f0d",
       "version_major": 2,
       "version_minor": 0
      },
      "text/plain": [
       "config_sentence_transformers.json:   0%|          | 0.00/116 [00:00<?, ?B/s]"
      ]
     },
     "metadata": {},
     "output_type": "display_data"
    },
    {
     "data": {
      "application/vnd.jupyter.widget-view+json": {
       "model_id": "a8a280818a984c83b04794fddb80f43d",
       "version_major": 2,
       "version_minor": 0
      },
      "text/plain": [
       "README.md: 0.00B [00:00, ?B/s]"
      ]
     },
     "metadata": {},
     "output_type": "display_data"
    },
    {
     "data": {
      "application/vnd.jupyter.widget-view+json": {
       "model_id": "42bb9caed9774d5b84f312ce91557ccc",
       "version_major": 2,
       "version_minor": 0
      },
      "text/plain": [
       "sentence_bert_config.json:   0%|          | 0.00/53.0 [00:00<?, ?B/s]"
      ]
     },
     "metadata": {},
     "output_type": "display_data"
    },
    {
     "data": {
      "application/vnd.jupyter.widget-view+json": {
       "model_id": "917018dca0df4517a386d295edcbfd22",
       "version_major": 2,
       "version_minor": 0
      },
      "text/plain": [
       "config.json:   0%|          | 0.00/571 [00:00<?, ?B/s]"
      ]
     },
     "metadata": {},
     "output_type": "display_data"
    },
    {
     "name": "stderr",
     "output_type": "stream",
     "text": [
      "Xet Storage is enabled for this repo, but the 'hf_xet' package is not installed. Falling back to regular HTTP download. For better performance, install the package with: `pip install huggingface_hub[hf_xet]` or `pip install hf_xet`\n"
     ]
    },
    {
     "data": {
      "application/vnd.jupyter.widget-view+json": {
       "model_id": "a01acaa40f2b4a938e45643cbd80162d",
       "version_major": 2,
       "version_minor": 0
      },
      "text/plain": [
       "model.safetensors:   0%|          | 0.00/438M [00:00<?, ?B/s]"
      ]
     },
     "metadata": {},
     "output_type": "display_data"
    },
    {
     "data": {
      "application/vnd.jupyter.widget-view+json": {
       "model_id": "4f8a8c9c3aaa4f7a8c032346537c59b8",
       "version_major": 2,
       "version_minor": 0
      },
      "text/plain": [
       "tokenizer_config.json:   0%|          | 0.00/363 [00:00<?, ?B/s]"
      ]
     },
     "metadata": {},
     "output_type": "display_data"
    },
    {
     "data": {
      "application/vnd.jupyter.widget-view+json": {
       "model_id": "78be33b6aa674c14b011e7f844a21c6b",
       "version_major": 2,
       "version_minor": 0
      },
      "text/plain": [
       "vocab.txt: 0.00B [00:00, ?B/s]"
      ]
     },
     "metadata": {},
     "output_type": "display_data"
    },
    {
     "data": {
      "application/vnd.jupyter.widget-view+json": {
       "model_id": "6b09193280f64c3c8963bc4519d082b2",
       "version_major": 2,
       "version_minor": 0
      },
      "text/plain": [
       "tokenizer.json: 0.00B [00:00, ?B/s]"
      ]
     },
     "metadata": {},
     "output_type": "display_data"
    },
    {
     "data": {
      "application/vnd.jupyter.widget-view+json": {
       "model_id": "ba863c93107f4597866c169dbc1c956a",
       "version_major": 2,
       "version_minor": 0
      },
      "text/plain": [
       "special_tokens_map.json:   0%|          | 0.00/239 [00:00<?, ?B/s]"
      ]
     },
     "metadata": {},
     "output_type": "display_data"
    },
    {
     "data": {
      "application/vnd.jupyter.widget-view+json": {
       "model_id": "23920d3a1afe415cb052d236e39844e5",
       "version_major": 2,
       "version_minor": 0
      },
      "text/plain": [
       "config.json:   0%|          | 0.00/190 [00:00<?, ?B/s]"
      ]
     },
     "metadata": {},
     "output_type": "display_data"
    }
   ],
   "source": [
    "\n",
    "from typing_extensions import Literal\n",
    "from langchain_groq import ChatGroq\n",
    "from langchain_core.messages import SystemMessage, HumanMessage, RemoveMessage\n",
    "from langgraph.graph import END\n",
    "from langgraph.graph import MessagesState\n",
    "from langchain_community.embeddings import HuggingFaceEmbeddings\n",
    "\n",
    "\n",
    "embeddings = HuggingFaceEmbeddings()\n",
    "\n",
    "model = ChatGroq(model=\"openai/gpt-oss-20b\", temperature=0)\n",
    "\n",
    "class State(MessagesState):\n",
    "    summary: str\n",
    "\n",
    "\n",
    "def call_model(state: State):\n",
    "    \n",
    "    summary = state.get(\"summary\", \"\")\n",
    "\n",
    "  \n",
    "    if summary:\n",
    "        \n",
    "        system_message = f\"Summary of conversation earlier: {summary}\"\n",
    "        \n",
    "        messages = [SystemMessage(content=system_message)] + state[\"messages\"]\n",
    "    else:\n",
    "        messages = state[\"messages\"]\n",
    "\n",
    "    response = model.invoke(messages)\n",
    "    return {\"messages\": response}\n",
    "\n",
    "def summarize_conversation(state: State):\n",
    "   \n",
    "    summary = state.get(\"summary\", \"\")\n",
    "\n",
    "    \n",
    "    if summary:\n",
    "        \n",
    "        summary_message = (\n",
    "            f\"This is summary of the conversation to date: {summary}\\n\\n\"\n",
    "            \"Extend the summary by taking into account the new messages above:\"\n",
    "        )\n",
    "    else:\n",
    "        summary_message = \"Create a summary of the conversation above:\"\n",
    "\n",
    "   \n",
    "    messages = state[\"messages\"] + [HumanMessage(content=summary_message)]\n",
    "    response = model.invoke(messages)\n",
    "\n",
    "    \n",
    "    delete_messages = [RemoveMessage(id=m.id) for m in state[\"messages\"][:-2]]\n",
    "    return {\"summary\": response.content, \"messages\": delete_messages}\n",
    "\n",
    "\n",
    "def should_continue(state: State) -> Literal [\"summarize_conversation\", END]:\n",
    "    \"\"\"Return the next node to execute.\"\"\"\n",
    "    messages = state[\"messages\"]\n",
    "    \n",
    "    if len(messages) > 6:\n",
    "        return \"summarize_conversation\"\n",
    "    \n",
    "    return END"
   ]
  },
  {
   "cell_type": "code",
   "execution_count": 7,
   "id": "d9c02e66",
   "metadata": {},
   "outputs": [
    {
     "data": {
      "image/png": "[encoded data removed]",
      "text/plain": [
       "<IPython.core.display.Image object>"
      ]
     },
     "metadata": {},
     "output_type": "display_data"
    }
   ],
   "source": [
    "\n",
    "from IPython.display import Image, display\n",
    "from langgraph.graph import StateGraph, START\n",
    "\n",
    "# Define a new graph\n",
    "workflow = StateGraph(State)\n",
    "workflow.add_node(\"conversation\", call_model)\n",
    "workflow.add_node(\"summarize_conversation\", summarize_conversation)\n",
    "\n",
    "# Set the entrypoint as conversation\n",
    "workflow.add_edge(START, \"conversation\")\n",
    "workflow.add_conditional_edges(\"conversation\", should_continue)\n",
    "workflow.add_edge(\"summarize_conversation\", END)\n",
    "\n",
    "# Compile\n",
    "graph = workflow.compile(checkpointer=memory)\n",
    "display(Image(graph.get_graph().draw_mermaid_png()))"
   ]
  },
  {
   "cell_type": "code",
   "execution_count": 8,
   "id": "51e31ff7",
   "metadata": {},
   "outputs": [
    {
     "name": "stdout",
     "output_type": "stream",
     "text": [
      "==================================\u001b[1m Ai Message \u001b[0m==================================\n",
      "\n",
      "Hey Alex! 👋  \n",
      "Sounds like a delicious evening is on the horizon. Let’s make sure we pick something that fits your taste, time, and pantry.\n",
      "\n",
      "### Quick Questions\n",
      "1. **Dietary preferences / restrictions?** (e.g., vegetarian, gluten‑free, keto, no dairy, etc.)  \n",
      "2. **What ingredients do you already have on hand?** (Feel free to list a few key items.)  \n",
      "3. **How much time do you want to spend cooking?** (e.g., 15 min, 30 min, 1 hr)  \n",
      "4. **What’s your comfort level in the kitchen?** (Beginner, intermediate, advanced)  \n",
      "5. **Any particular cuisine or flavor profile you’re craving?** (Italian, Mexican, comfort food, something spicy, etc.)\n",
      "\n",
      "Once I have a bit more info, I’ll suggest a recipe that’s tasty, doable, and tailored to your situation. If you’re in a rush, I can also give you a “quick‑fire” option. Let me know!\n",
      "==================================\u001b[1m Ai Message \u001b[0m==================================\n",
      "\n",
      "Here are **six ultra‑easy Italian dinner ideas** that’ll satisfy your craving for all things pasta, pizza, and comfort‑food, but won’t keep you in the kitchen for hours.  \n",
      "All of them can be whipped up in 30 minutes or less, use pantry staples, and let you focus on the flavors you love.\n",
      "\n",
      "| # | Dish | Why it’s “easy” | Quick‑start ingredients | Prep / Cook time |\n",
      "|---|------|-----------------|------------------------|------------------|\n",
      "| 1 | **Spaghetti Aglio e Olio** | Classic “no‑fuss” pasta: just garlic, olive oil, chili flakes, parsley, and parmesan. | Spaghetti, garlic, olive oil, red‑pepper flakes, fresh parsley, grated parmesan, salt, pepper | 15 min |\n",
      "| 2 | **Caprese Pasta Salad** | Cold pasta + fresh mozzarella + tomatoes = instant “summer” vibe. | Rotini or penne, cherry tomatoes, fresh mozzarella, basil, olive oil, balsamic glaze, salt, pepper | 20 min |\n",
      "| 3 | **One‑Pan Chicken & Roasted Veg** | Chicken thighs + veggies + Italian seasoning all in one sheet pan. | Bone‑in chicken thighs, bell peppers, zucchini, cherry tomatoes, olive oil, Italian seasoning, salt, pepper | 35 min |\n",
      "| 4 | **Margherita Pizza (Pre‑made Crust)** | Use a store‑bought dough or flatbread, top with sauce, mozzarella, basil. | Pre‑made pizza dough or flatbread, marinara or crushed tomatoes, shredded mozzarella, fresh basil, olive oil | 25 min |\n",
      "| 5 | **Creamy Mushroom Risotto (Quick Version)** | Use instant rice + quick‑cook broth + sautéed mushrooms. | Quick‑cook risotto rice, chicken or vegetable broth, mushrooms, onion, garlic, parmesan, butter | 30 min |\n",
      "| 6 | **Pesto & Shrimp Linguine** | Pesto sauce + shrimp + pasta = protein + flavor in a flash. | Linguine, pre‑made pesto, shrimp (peeled & deveined), garlic, olive oil, parmesan | 20 min |\n",
      "\n",
      "---\n",
      "\n",
      "## 1. Spaghetti Aglio e Olio (Garlic & Oil)\n",
      "\n",
      "**Why it’s great:**  \n",
      "- 5 ingredients, 1 pot.  \n",
      "- You can add a splash of white wine or a pinch of lemon zest for extra zing.\n",
      "\n",
      "**Quick recipe**\n",
      "\n",
      "1. **Cook pasta** in salted water until al dente. Reserve ½ cup pasta water.  \n",
      "2. **Sauté garlic**: In a large skillet, heat ¼ cup olive oil over medium heat. Add 4–5 thinly sliced garlic cloves and ½ tsp red‑pepper flakes. Cook until garlic is golden (≈2 min).  \n",
      "3. **Combine**: Add drained pasta to skillet, toss with 2 tbsp chopped parsley, ¼ cup reserved pasta water, salt, and pepper.  \n",
      "4. **Finish**: Sprinkle ½ cup grated parmesan, drizzle a little more olive oil, and serve hot.\n",
      "\n",
      "---\n",
      "\n",
      "## 2. Caprese Pasta Salad\n",
      "\n",
      "**Why it’s great:**  \n",
      "- No cooking after the pasta is done.  \n",
      "- Perfect for a light dinner or a side dish.\n",
      "\n",
      "**Quick recipe**\n",
      "\n",
      "1. Cook 8 oz rotini in salted water, drain, rinse under cold water.  \n",
      "2. Toss with 1 cup halved cherry tomatoes, 1 cup cubed fresh mozzarella, ¼ cup chopped basil.  \n",
      "3. Dress with 3 tbsp olive oil, 1 tbsp balsamic glaze, salt, pepper.  \n",
      "4. Chill 10 min if you like it cold, then serve.\n",
      "\n",
      "---\n",
      "\n",
      "## 3. One‑Pan Chicken & Roasted Veg\n",
      "\n",
      "**Why it’s great:**  \n",
      "- Minimal cleanup.  \n",
      "- You can swap veggies for whatever you have.\n",
      "\n",
      "**Quick recipe**\n",
      "\n",
      "1. Preheat oven to 425 °F (220 °C).  \n",
      "2. Toss 4 chicken thighs with 2 tbsp olive oil, 1 tbsp Italian seasoning, salt, pepper.  \n",
      "3. Arrange on a sheet pan with 2 cups chopped bell peppers, 1 cup sliced zucchini, 1 cup cherry tomatoes.  \n",
      "4. Roast 25–30 min, turning once, until chicken reaches 165 °F.  \n",
      "5. Serve with crusty bread or a side of pasta.\n",
      "\n",
      "---\n",
      "\n",
      "## 4. Margherita Pizza (Pre‑made Crust)\n",
      "\n",
      "**Why it’s great:**  \n",
      "- No dough‑kneading required.  \n",
      "- You can add extra toppings (pepperoni, olives) if you’re feeling adventurous.\n",
      "\n",
      "**Quick recipe**\n",
      "\n",
      "1. Preheat oven to 475 °F (245 °C).  \n",
      "2. Spread ½ cup marinara on the crust.  \n",
      "3. Sprinkle 1 cup shredded mozzarella, a few basil leaves, drizzle 1 tbsp olive oil.  \n",
      "4. Bake 12–15 min until cheese is bubbly.  \n",
      "5. Slice, drizzle with a little extra olive oil, and enjoy.\n",
      "\n",
      "---\n",
      "\n",
      "## 5. Creamy Mushroom Risotto (Quick Version)\n",
      "\n",
      "**Why it’s great:**  \n",
      "- Uses instant risotto rice, so no constant stirring.  \n",
      "- Mushrooms add umami; parmesan gives creaminess.\n",
      "\n",
      "**Quick recipe**\n",
      "\n",
      "1. In a saucepan, heat 2 tbsp butter + 1 tbsp olive oil. Add 1 diced onion, cook until translucent.  \n",
      "2. Add 1 cup sliced mushrooms, cook 3 min.  \n",
      "3. Stir in 1 cup quick‑cook risotto rice, toast 1 min.  \n",
      "4. Add 2 cups broth (chicken or veggie) gradually, stirring until absorbed.  \n",
      "5. Finish with ¼ cup grated parmesan, salt, pepper. Serve hot.\n",
      "\n",
      "---\n",
      "\n",
      "## 6. Pesto & Shrimp Linguine\n",
      "\n",
      "**Why it’s great:**  \n",
      "- Shrimp cooks in 3–4 min.  \n",
      "- Pesto is ready‑made, so no sauce‑making.\n",
      "\n",
      "**Quick recipe**\n",
      "\n",
      "1. Cook 8 oz linguine in salted water.  \n",
      "2. While pasta cooks, sauté 1 tbsp olive oil, 2 minced garlic cloves, 1 lb shrimp until pink (≈3 min).  \n",
      "3. Drain pasta, reserve ½ cup pasta water.  \n",
      "4. Toss pasta + shrimp with ½ cup pesto, 2 tbsp reserved pasta water, salt, pepper.  \n",
      "5. Garnish with fresh basil and parmesan.\n",
      "\n",
      "---\n",
      "\n",
      "### Pro‑Tips for Speed & Flavor\n",
      "\n",
      "- **Prep in advance**: Dice veggies, shred cheese, and keep them in airtight containers.  \n",
      "- **Use pre‑made sauces**: Marinara, pesto, and even pre‑shredded mozzarella can save time.  \n",
      "- **Keep a “cheese station”**: Have parmesan, mozzarella, and a small jar of olive oil ready.  \n",
      "- **Batch cook**: If you have extra pasta or chicken, store in the fridge for the next day’s meal.\n",
      "\n",
      "Pick one that matches your mood and pantry, and you’ll have a delicious Italian dinner in no time. Buon appetito! 🍝🍕🍷\n",
      "==================================\u001b[1m Ai Message \u001b[0m==================================\n",
      "\n",
      "Great! With pasta, tomatoes, and basil you can make a **classic, ultra‑simple “Pasta al Pomodoro”** (tomato pasta). It’s a staple of Italian home cooking—fresh, bright, and ready in about 20 minutes.  \n",
      "\n",
      "---\n",
      "\n",
      "## Pasta al Pomodoro (Tomato & Basil Pasta)\n",
      "\n",
      "### Ingredients  \n",
      "| Item | Amount | Notes |\n",
      "|------|--------|-------|\n",
      "| Pasta (spaghetti, linguine, penne, or your favorite shape) | 8 oz (about 2 cups cooked) | Any dry pasta works |\n",
      "| Fresh tomatoes | 4–5 medium (or 1 cup cherry tomatoes, halved) | If using canned, 1 cup crushed tomatoes works too |\n",
      "| Fresh basil | 1 cup leaves, roughly torn | Or 2 Tbsp dried basil if fresh isn’t available |\n",
      "| Garlic | 2 cloves, minced | Optional, but adds great flavor |\n",
      "| Olive oil | 3 Tbsp | Extra‑virgin for best taste |\n",
      "| Salt | to taste | |\n",
      "| Black pepper | to taste | |\n",
      "| Grated Parmesan or Pecorino (optional) | ¼ cup | For serving |\n",
      "| Red‑pepper flakes (optional) | pinch | If you like a little heat |\n",
      "\n",
      "### Quick‑step recipe (≈20 min)\n",
      "\n",
      "1. **Cook the pasta**  \n",
      "   - Bring a large pot of salted water to a boil.  \n",
      "   - Add pasta and cook until al dente (check the package for timing).  \n",
      "   - Reserve ½ cup of pasta water, then drain.\n",
      "\n",
      "2. **Make the tomato sauce**  \n",
      "   - While the pasta cooks, heat 2 Tbsp olive oil in a skillet over medium heat.  \n",
      "   - Add minced garlic (if using) and sauté 30 s until fragrant.  \n",
      "   - Add diced fresh tomatoes (or cherry halves). Cook, stirring occasionally, until they break down into a chunky sauce—about 5–7 min.  \n",
      "   - Season with salt, pepper, and a pinch of red‑pepper flakes if desired.  \n",
      "   - If the sauce seems too thick, stir in a splash of the reserved pasta water.\n",
      "\n",
      "3. **Combine pasta & sauce**  \n",
      "   - Add the drained pasta to the skillet. Toss to coat, adding a little more pasta water if needed to loosen the sauce.  \n",
      "   - Stir in the torn basil leaves until they wilt slightly (about 30 s).  \n",
      "   - Taste and adjust seasoning.\n",
      "\n",
      "4. **Serve**  \n",
      "   - Plate the pasta, sprinkle with grated Parmesan (if using), and drizzle a little extra olive oil.  \n",
      "   - Garnish with a few whole basil leaves for a fresh look.\n",
      "\n",
      "---\n",
      "\n",
      "### Variations & Extras\n",
      "\n",
      "| Variation | How to tweak |\n",
      "|-----------|--------------|\n",
      "| **Add protein** | Sauté ½ lb ground beef, Italian sausage, or shrimp with the garlic before adding tomatoes. |\n",
      "| **Creamy twist** | Stir in 2 Tbsp heavy cream or a splash of milk after adding the pasta. |\n",
      "| **Pesto boost** | Replace half the olive oil with 2 Tbsp basil pesto for a richer flavor. |\n",
      "| **Vegetable boost** | Add sautéed spinach, zucchini, or olives to the sauce. |\n",
      "| **Spicy** | Increase red‑pepper flakes or add a pinch of cayenne. |\n",
      "\n",
      "---\n",
      "\n",
      "### Why this works\n",
      "\n",
      "- **Freshness**: The basil and tomatoes shine when they’re fresh and not over‑cooked.  \n",
      "- **Speed**: The sauce cooks while the pasta boils, so you’re done in one go.  \n",
      "- **Flexibility**: You can add almost anything—protein, cheese, or extra veggies—without changing the core idea.\n",
      "\n",
      "Enjoy your quick, delicious Italian dinner! Buon appetito! 🍝🌿🍅\n",
      "==================================\u001b[1m Ai Message \u001b[0m==================================\n",
      "\n",
      "### Simple Pasta with Tomato & Basil Sauce  \n",
      "*(Makes 2–3 servings)*  \n",
      "\n",
      "| Step | What to do | Time |\n",
      "|------|------------|------|\n",
      "| 1 | **Gather ingredients** | 1 min |\n",
      "| 2 | **Cook pasta** | 8–10 min |\n",
      "| 3 | **Make sauce** | 5–7 min |\n",
      "| 4 | **Combine & finish** | 2 min |\n",
      "| 5 | **Serve** | 1 min |\n",
      "\n",
      "---\n",
      "\n",
      "#### 1. Gather Ingredients  \n",
      "- 8 oz pasta (spaghetti, linguine, penne, etc.)  \n",
      "- 4–5 medium fresh tomatoes (or 1 cup cherry tomatoes, halved)  \n",
      "- 1 cup fresh basil leaves, torn or chopped  \n",
      "- 2 cloves garlic, minced (optional)  \n",
      "- 3 Tbsp extra‑virgin olive oil  \n",
      "- Salt & pepper, to taste  \n",
      "- Grated Parmesan or Pecorino (optional)  \n",
      "- Red‑pepper flakes (optional)\n",
      "\n",
      "---\n",
      "\n",
      "#### 2. Cook the Pasta  \n",
      "1. Bring a large pot of salted water to a rolling boil.  \n",
      "2. Add pasta and cook until **al dente** (check package instructions).  \n",
      "3. Reserve ½ cup of pasta water, then drain the pasta.\n",
      "\n",
      "---\n",
      "\n",
      "#### 3. Make the Tomato‑Basil Sauce  \n",
      "1. While pasta cooks, heat 2 Tbsp olive oil in a skillet over medium heat.  \n",
      "2. Add minced garlic (if using) and sauté 30 s until fragrant.  \n",
      "3. Add diced tomatoes (or cherry halves). Cook, stirring occasionally, until they soften and release juices—about 5–7 min.  \n",
      "4. Season with salt, pepper, and a pinch of red‑pepper flakes if desired.  \n",
      "5. If the sauce is too thick, stir in a splash of the reserved pasta water.\n",
      "\n",
      "---\n",
      "\n",
      "#### 4. Combine & Finish  \n",
      "1. Add the drained pasta to the skillet with the sauce.  \n",
      "2. Toss to coat, adding a little more pasta water if needed to loosen the sauce.  \n",
      "3. Stir in the torn basil leaves; they’ll wilt slightly in the heat.  \n",
      "4. Taste and adjust seasoning.\n",
      "\n",
      "---\n",
      "\n",
      "#### 5. Serve  \n",
      "- Plate the pasta.  \n",
      "- Sprinkle with grated Parmesan (if using).  \n",
      "- Drizzle a little extra olive oil and garnish with a few whole basil leaves.  \n",
      "- Enjoy immediately!\n",
      "\n",
      "---\n",
      "\n",
      "**Quick Tips**  \n",
      "- **Freshness matters**: Use ripe tomatoes and bright basil for the best flavor.  \n",
      "- **Pasta water**: The starchy water helps the sauce cling to the noodles.  \n",
      "- **Optional extras**: Add a splash of white wine before the tomatoes, or finish with a pinch of lemon zest for brightness.\n",
      "\n",
      "That’s it—an authentic, fuss‑free Italian pasta dish ready in about 20 minutes! 🍝🌿🍅\n",
      "==================================\u001b[1m Ai Message \u001b[0m==================================\n",
      "\n",
      "**Garlic vs. Onion in a Tomato‑Basil Pasta**\n",
      "\n",
      "| Ingredient | Flavor Profile | How It Works in the Sauce | When to Use It |\n",
      "|------------|----------------|---------------------------|----------------|\n",
      "| **Garlic** | Sharp, aromatic, slightly spicy | Adds depth and a classic “Italian” kick. | If you want a bold, traditional taste. |\n",
      "| **Onion** | Sweet, mellow, slightly caramelized | Brings a subtle sweetness and body to the sauce. | If you prefer a sweeter, richer sauce or want to balance very acidic tomatoes. |\n",
      "\n",
      "### Quick Decision Guide\n",
      "\n",
      "| Question | Answer |\n",
      "|----------|--------|\n",
      "| **Do you want a classic, simple tomato‑basil sauce?** | Use **garlic** (2–3 cloves, minced). |\n",
      "| **Do you want a sweeter, more rounded sauce?** | Add **onion** (½ small onion, finely diced) along with garlic. |\n",
      "| **Do you have a very acidic tomato base?** | Onion helps mellow the acidity; garlic still works but can be reduced. |\n",
      "| **Do you want to keep it ultra‑quick?** | Skip onion; just garlic or even skip both if you’re in a hurry. |\n",
      "\n",
      "### How to Add Them\n",
      "\n",
      "1. **Garlic Only**  \n",
      "   - Heat 2 Tbsp olive oil in a skillet over medium heat.  \n",
      "   - Add 2–3 minced garlic cloves. Sauté 30 s–1 min until fragrant (watch it closely to avoid burning).  \n",
      "   - Add tomatoes and cook as usual.\n",
      "\n",
      "2. **Garlic + Onion**  \n",
      "   - Heat 2 Tbsp olive oil.  \n",
      "   - Add ½ small finely diced onion. Cook 3–4 min until translucent.  \n",
      "   - Add 2–3 minced garlic cloves. Sauté 30 s.  \n",
      "   - Add tomatoes and continue cooking.\n",
      "\n",
      "3. **Optional: Both in a “Sautéed” Base**  \n",
      "   - Sauté onion first, then garlic, then tomatoes.  \n",
      "   - This gives a layered flavor: onion sweetness, garlic bite, tomato acidity.\n",
      "\n",
      "### Tips\n",
      "\n",
      "- **Avoid Burning**: Garlic burns quickly. Keep the heat medium‑low once it’s in the pan.  \n",
      "- **Use Fresh**: Fresh garlic and onion give the best flavor; pre‑minced or pre‑diced can be fine but may lose aroma.  \n",
      "- **Adjust Quantity**: If you’re sensitive to garlic, start with 1 clove and add more after tasting.  \n",
      "- **Add Later**: If you’re worried about bitterness, add garlic after the tomatoes have softened (about 2 min into cooking).\n",
      "\n",
      "### Bottom Line\n",
      "\n",
      "- **Garlic** is the classic choice for a quick, authentic tomato‑basil pasta.  \n",
      "- **Onion** is optional but great if you want a sweeter, fuller sauce.  \n",
      "- You can use both for a richer flavor, or skip both for the simplest version.\n",
      "\n",
      "Pick what fits your taste and time constraints, and enjoy!\n",
      "==================================\u001b[1m Ai Message \u001b[0m==================================\n",
      "\n",
      "### Which Pasta Shapes Pair Best with a Simple Tomato‑Basil Sauce?\n",
      "\n",
      "| Pasta | Why It Works | Typical Serving Size | Cooking Time (al dente) |\n",
      "|-------|--------------|----------------------|------------------------|\n",
      "| **Spaghetti** | Long, thin strands cling to the light, silky tomato‑basil sauce. Classic Italian pairing. | 2 oz (dry) per person | 8–10 min |\n",
      "| **Linguine** | Slightly wider than spaghetti, gives a bit more surface area for sauce while still sliding easily. | 2 oz per person | 8–10 min |\n",
      "| **Fettuccine** | Flat ribbons hold a bit more sauce; great if you like a richer coating. | 2 oz per person | 8–10 min |\n",
      "| **Penne** | Short tubes trap sauce inside, ideal if you want a heartier bite. | 2 oz per person | 9–11 min |\n",
      "| **Rigatoni** | Larger tubes, excellent for thicker sauces; still works if you like a chunkier texture. | 2 oz per person | 9–11 min |\n",
      "| **Fusilli** | Spiral shape grips sauce on the ridges; fun for kids or a playful twist. | 2 oz per person | 9–11 min |\n",
      "| **Rotini** | Similar to fusilli but tighter spiral; holds sauce well. | 2 oz per person | 9–11 min |\n",
      "| **Orzo** | Small rice‑shaped pasta; turns the dish into a light pasta salad if you add a splash of olive oil. | 2 oz per person | 8–10 min |\n",
      "\n",
      "#### How to Pick the “Best” One\n",
      "\n",
      "| Factor | Recommendation |\n",
      "|--------|----------------|\n",
      "| **Sauce thickness** | *Thin, silky sauce* → spaghetti, linguine, fettuccine. <br>*Thicker, chunkier sauce* → penne, rigatoni, fusilli. |\n",
      "| **Texture preference** | *Smooth, classic* → spaghetti or linguine. <br>*More bite* → penne or rigatoni. |\n",
      "| **Presentation** | Long strands look elegant on a plate; short tubes look hearty and comforting. |\n",
      "| **Cooking time** | All shapes cook in 8–11 min; choose one you’re comfortable timing. |\n",
      "| **Availability** | If you only have one type on hand, any will work—just adjust the amount of sauce to coat it evenly. |\n",
      "\n",
      "#### Quick Tips for the Perfect Pairing\n",
      "\n",
      "1. **Al dente is key** – the pasta should still have a slight bite; it will soften a bit when tossed with the sauce.\n",
      "2. **Reserve pasta water** – a splash of the starchy water helps the sauce cling to the pasta, especially for long strands.\n",
      "3. **Mix shapes** – for a fun twist, combine a long shape (spaghetti) with a short shape (penne) in the same dish.\n",
      "4. **Season the water** – salt the pasta water generously (about 1 Tbsp per 4 L) to flavor the noodles from the inside out.\n",
      "\n",
      "---\n",
      "\n",
      "**Bottom line:**  \n",
      "- **Spaghetti or linguine** are the classic, “best” choices for a light tomato‑basil sauce.  \n",
      "- If you want a heartier bite or a sauce that’s a bit thicker, go with **penne, rigatoni, or fusilli**.  \n",
      "- Any pasta will taste great—just pick the shape that matches the sauce texture you enjoy most.\n",
      "==================================\u001b[1m Ai Message \u001b[0m==================================\n",
      "\n",
      "Sounds delicious! 🍝✨\n",
      "\n",
      "If you run into any questions while cooking—whether it’s timing, seasoning tweaks, or a quick garnish idea—just let me know. Happy cooking!\n"
     ]
    }
   ],
   "source": [
    "\n",
    "# Create a thread\n",
    "config = {\"configurable\": {\"thread_id\": \"cooking_thread\"}}\n",
    "\n",
    "# Start conversation\n",
    "input_message = HumanMessage(content=\"Hello! I'm Alex. I want to cook something delicious tonight.\")\n",
    "output = graph.invoke({\"messages\": [input_message]}, config)\n",
    "for m in output['messages'][-1:]:\n",
    "    m.pretty_print()\n",
    "\n",
    "input_message = HumanMessage(content=\"What are some easy dinner ideas for someone who loves Italian food?\")\n",
    "output = graph.invoke({\"messages\": [input_message]}, config)\n",
    "for m in output['messages'][-1:]:\n",
    "    m.pretty_print()\n",
    "\n",
    "input_message = HumanMessage(content=\"I have pasta, tomatoes, and basil. What can I make with these?\")\n",
    "output = graph.invoke({\"messages\": [input_message]}, config)\n",
    "for m in output['messages'][-1:]:\n",
    "    m.pretty_print()\n",
    "\n",
    "input_message = HumanMessage(content=\"Tell me the steps for making a simple pasta with tomato and basil sauce.\")\n",
    "output = graph.invoke({\"messages\": [input_message]}, config)\n",
    "for m in output['messages'][-1:]:\n",
    "    m.pretty_print()\n",
    "\n",
    "input_message = HumanMessage(content=\"Should I add garlic or onions?\")\n",
    "output = graph.invoke({\"messages\": [input_message]}, config)\n",
    "for m in output['messages'][-1:]:\n",
    "    m.pretty_print()\n",
    "\n",
    "input_message = HumanMessage(content=\"What kind of pasta works best?\")\n",
    "output = graph.invoke({\"messages\": [input_message]}, config)\n",
    "for m in output['messages'][-1:]:\n",
    "    m.pretty_print()\n",
    "\n",
    "input_message = HumanMessage(content=\"Great, I'll try making spaghetti with this. Thanks!\")\n",
    "output = graph.invoke({\"messages\": [input_message]}, config)\n",
    "for m in output['messages'][-1:]:\n",
    "    m.pretty_print()"
   ]
  },
  {
   "cell_type": "code",
   "execution_count": 9,
   "id": "558fed0e",
   "metadata": {},
   "outputs": [
    {
     "data": {
      "text/plain": [
       "StateSnapshot(values={'messages': [HumanMessage(content=\"Great, I'll try making spaghetti with this. Thanks!\", additional_kwargs={}, response_metadata={}, id='b6bd65d5-9f4f-454a-859b-5e6195ae4e7f'), AIMessage(content='Sounds delicious! 🍝✨\\n\\nIf you run into any questions while cooking—whether it’s timing, seasoning tweaks, or a quick garnish idea—just let me know. Happy cooking!', additional_kwargs={'reasoning_content': \"User says they'll try making spaghetti with this. They thanked. We should respond politely, maybe offer encouragement, maybe ask if they need anything else.\"}, response_metadata={'token_usage': {'completion_tokens': 77, 'prompt_tokens': 2365, 'total_tokens': 2442, 'completion_time': 0.075217872, 'prompt_time': 0.126138046, 'queue_time': 0.050599604, 'total_time': 0.201355918}, 'model_name': 'openai/gpt-oss-20b', 'system_fingerprint': 'fp_c5a89987dc', 'service_tier': 'on_demand', 'finish_reason': 'stop', 'logprobs': None, 'model_provider': 'groq'}, id='lc_run--1de9e3a1-48bb-4c16-911b-fade6fc5dcc4-0', usage_metadata={'input_tokens': 2365, 'output_tokens': 77, 'total_tokens': 2442})], 'summary': '**Conversation Summary (updated)**  \\n\\n1. **Initial Inquiry** – Alex wanted a quick, tasty meal.  \\n2. **Assistant’s Offer** – Suggested six 30‑minute Italian dinner ideas.  \\n3. **Alex’s Follow‑Up** – Only had pasta, tomatoes, and basil.  \\n4. **Assistant’s Recipe** – Provided a classic “Pasta al\\u202fPomodoro” (tomato‑basil pasta) recipe.  \\n5. **Step‑by‑Step** – Delivered a concise, actionable cooking guide.  \\n6. **Garlic vs. Onion** – Assistant explained flavor differences, usage tips, and when to include each.  \\n7. **Pasta Shape** – Assistant listed suitable pasta types, explained why each works, and gave selection guidance.  \\n8. **Final Decision** – Alex chose to cook spaghetti with the tomato‑basil sauce.  \\n\\nThe conversation now covers ingredient choices, flavor options, pasta selection, and the final plan to make spaghetti with tomato‑basil sauce.'}, next=(), config={'configurable': {'thread_id': 'cooking_thread', 'checkpoint_ns': '', 'checkpoint_id': '1f0b0361-0bbe-66f6-8015-be890dd6b58b'}}, metadata={'source': 'loop', 'step': 21, 'parents': {}}, created_at='2025-10-23T17:31:10.395743+00:00', parent_config={'configurable': {'thread_id': 'cooking_thread', 'checkpoint_ns': '', 'checkpoint_id': '1f0b0360-4bbb-6903-8014-e6fe9a9c0967'}}, tasks=(), interrupts=())"
      ]
     },
     "execution_count": 9,
     "metadata": {},
     "output_type": "execute_result"
    }
   ],
   "source": [
    "\n",
    "config = {\"configurable\": {\"thread_id\": \"cooking_thread\"}}\n",
    "graph_state = graph.get_state(config)\n",
    "graph_state"
   ]
  },
  {
   "cell_type": "code",
   "execution_count": 10,
   "id": "37c2433e",
   "metadata": {},
   "outputs": [
    {
     "data": {
      "text/plain": [
       "StateSnapshot(values={'messages': [HumanMessage(content=\"Great, I'll try making spaghetti with this. Thanks!\", additional_kwargs={}, response_metadata={}, id='b6bd65d5-9f4f-454a-859b-5e6195ae4e7f'), AIMessage(content='Sounds delicious! 🍝✨\\n\\nIf you run into any questions while cooking—whether it’s timing, seasoning tweaks, or a quick garnish idea—just let me know. Happy cooking!', additional_kwargs={'reasoning_content': \"User says they'll try making spaghetti with this. They thanked. We should respond politely, maybe offer encouragement, maybe ask if they need anything else.\"}, response_metadata={'token_usage': {'completion_tokens': 77, 'prompt_tokens': 2365, 'total_tokens': 2442, 'completion_time': 0.075217872, 'prompt_time': 0.126138046, 'queue_time': 0.050599604, 'total_time': 0.201355918}, 'model_name': 'openai/gpt-oss-20b', 'system_fingerprint': 'fp_c5a89987dc', 'service_tier': 'on_demand', 'finish_reason': 'stop', 'logprobs': None, 'model_provider': 'groq'}, id='lc_run--1de9e3a1-48bb-4c16-911b-fade6fc5dcc4-0', usage_metadata={'input_tokens': 2365, 'output_tokens': 77, 'total_tokens': 2442})], 'summary': '**Conversation Summary (updated)**  \\n\\n1. **Initial Inquiry** – Alex wanted a quick, tasty meal.  \\n2. **Assistant’s Offer** – Suggested six 30‑minute Italian dinner ideas.  \\n3. **Alex’s Follow‑Up** – Only had pasta, tomatoes, and basil.  \\n4. **Assistant’s Recipe** – Provided a classic “Pasta al\\u202fPomodoro” (tomato‑basil pasta) recipe.  \\n5. **Step‑by‑Step** – Delivered a concise, actionable cooking guide.  \\n6. **Garlic vs. Onion** – Assistant explained flavor differences, usage tips, and when to include each.  \\n7. **Pasta Shape** – Assistant listed suitable pasta types, explained why each works, and gave selection guidance.  \\n8. **Final Decision** – Alex chose to cook spaghetti with the tomato‑basil sauce.  \\n\\nThe conversation now covers ingredient choices, flavor options, pasta selection, and the final plan to make spaghetti with tomato‑basil sauce.'}, next=(), config={'configurable': {'thread_id': 'cooking_thread', 'checkpoint_ns': '', 'checkpoint_id': '1f0b0361-0bbe-66f6-8015-be890dd6b58b'}}, metadata={'source': 'loop', 'step': 21, 'parents': {}}, created_at='2025-10-23T17:31:10.395743+00:00', parent_config={'configurable': {'thread_id': 'cooking_thread', 'checkpoint_ns': '', 'checkpoint_id': '1f0b0360-4bbb-6903-8014-e6fe9a9c0967'}}, tasks=(), interrupts=())"
      ]
     },
     "execution_count": 10,
     "metadata": {},
     "output_type": "execute_result"
    }
   ],
   "source": [
    "\n",
    "config = {\"configurable\": {\"thread_id\": \"cooking_thread\"}}\n",
    "graph_state = graph.get_state(config)\n",
    "graph_state\n"
   ]
  }
 ],
 "metadata": {
  "kernelspec": {
   "display_name": "MAT496",
   "language": "python",
   "name": "python3"
  },
  "language_info": {
   "codemirror_mode": {
    "name": "ipython",
    "version": 3
   },
   "file_extension": ".py",
   "mimetype": "text/x-python",
   "name": "python",
   "nbconvert_exporter": "python",
   "pygments_lexer": "ipython3",
   "version": "3.13.5"
  }
 },
 "nbformat": 4,
 "nbformat_minor": 5
}
